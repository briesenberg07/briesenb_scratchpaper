{
 "cells": [
  {
   "cell_type": "markdown",
   "metadata": {},
   "source": [
    "# check opaquenamespace.org IRIs for labels\n",
    "Write some code that will take a list of ONS.org IRIs and for each, check to see whether a label can be retrieved. This may be helpful for data-remediation projects.  \n",
    "## 🚨☝🏻🚨 BUT \n",
    "How does ONS.org retrieve labels?  \n",
    "For this code, I plan to create a graph by 'hacking' an ONS.org IRI (add `.nt`, etc.) and query the graph for a label.  \n",
    "\n",
    "## 📥 possible to-dos\n",
    "- Ask Linda S. how OD2 retrieves labels, and whether this check actually predicts whether that process will succeed or fail\n"
   ]
  },
  {
   "cell_type": "code",
   "execution_count": null,
   "metadata": {},
   "outputs": [],
   "source": [
    "from rdflib import Graph\n"
   ]
  },
  {
   "cell_type": "code",
   "execution_count": null,
   "metadata": {},
   "outputs": [],
   "source": [
    "# assemble list of test IRIs\n",
    "control_set = [\n",
    "    'https://opaquenamespace.org/ns/creator/ALJacksonsGallery',\n",
    "    'https://opaquenamespace.org/ns/creator/AbbottCYarnall',\n",
    "    'https://opaquenamespace.org/ns/creator/Abdel-SamieME',\n",
    "    'https://opaquenamespace.org/ns/creator/AbramskiRichard',\n",
    "    'https://opaquenamespace.org/ns/creator/LiRongjin',\n",
    "    'https://opaquenamespace.org/ns/creator/PitmanWilliam',\n",
    "    'https://opaquenamespace.org/ns/creator/PittsMartha',\n",
    "    'https://opaquenamespace.org/ns/creator/PloghoftRachelE',\n",
    "    'https://opaquenamespace.org/ns/creator/PomodoroArnaldo',\n",
    "    'https://opaquenamespace.org/ns/creator/ZhuDiezhuan'\n",
    "]\n",
    "\n",
    "# see whether my proposed method works with test IRIs\n",
    "for entry in control_set:\n",
    "    print(f\"Attempting to parse graph from file at URL {entry}.nt...\")\n",
    "    try:\n",
    "        g = Graph().parse(f\"{entry}.nt\")\n",
    "        print(f\"Able to parse .nt file as a graph, {len(g)} triples in graph\")\n",
    "    except:\n",
    "        print(f\"Unable to parse file at URL {entry}.nt as a graph\")\n"
   ]
  },
  {
   "cell_type": "code",
   "execution_count": null,
   "metadata": {},
   "outputs": [],
   "source": [
    "# assemble list of questionable IRIs\n",
    "# build from copy/paste text, so, review how to read in this data\n",
    "check_iris = []\n",
    "iri_pass = []\n",
    "iri_fail = []\n",
    "with open(\"check_iris.txt\", 'r') as txtfile:\n",
    "    for line in txtfile:\n",
    "        # print(line)\n",
    "        check_iris.append(line.strip())\n",
    "# print(check_iris)\n",
    "print(f\"{len(check_iris)} IRIs to check\")\n",
    "for entry in check_iris:\n",
    "    print(f\"Attempting to parse graph from file at {entry}.nt...\")\n",
    "    try:\n",
    "        g = Graph().parse(f\"{entry}.nt\")\n",
    "        print(f\"Able to parse file at {entry}.nt into a graph - {len(g)} triples in graph\")\n",
    "        iri_pass.append(entry)\n",
    "    except:\n",
    "        print(f\"Could not parse any file at {entry}.nt into a graph\")\n",
    "        iri_fail.append(entry)\n",
    "print(f\"{len(iri_pass)} entries yielded data at [iri] + .nt\")\n",
    "print(f\"{len(iri_fail)} entries did not yield data at [IRI] + .nt\")\n",
    "# write to file here\n",
    "with open(\"/mnt/c/Users/briesenb/Desktop/check_ons.md\", \"w+\") as mdfile:\n",
    "    mdfile.write(\"# some results\\n\")\n",
    "    mdfile.write(\"## pass\\n\")\n",
    "    if len(iri_pass) > 0:\n",
    "        for entry in iri_pass:\n",
    "            mdfile.write(f\"- {entry}\\n\")\n",
    "    else:\n",
    "        mdfile.write(\"no successes\\n\")\n",
    "    mdfile.write(\"## fail\\n\")\n",
    "    if len(iri_fail) == 0:\n",
    "        mdfile.write(\"no failures\\n\")\n",
    "    else:\n",
    "        for entry in iri_fail:\n",
    "            mdfile.write(f\"- {entry}\\n\")\n",
    "print(f\"For further details see file 'check_ons.md' on the Desktop\")\n"
   ]
  }
 ],
 "metadata": {
  "kernelspec": {
   "display_name": "Python 3",
   "language": "python",
   "name": "python3"
  },
  "language_info": {
   "codemirror_mode": {
    "name": "ipython",
    "version": 3
   },
   "file_extension": ".py",
   "mimetype": "text/x-python",
   "name": "python",
   "nbconvert_exporter": "python",
   "pygments_lexer": "ipython3",
   "version": "3.10.12"
  }
 },
 "nbformat": 4,
 "nbformat_minor": 2
}

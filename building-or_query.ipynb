{
 "cells": [
  {
   "cell_type": "code",
   "execution_count": null,
   "metadata": {},
   "outputs": [],
   "source": [
    "import rdflib\n",
    "import json"
   ]
  },
  {
   "cell_type": "code",
   "execution_count": null,
   "metadata": {},
   "outputs": [],
   "source": [
    "data_workType = []\n",
    "g = rdflib.Graph().parse(\"../data_scratch/colls/building-or.ttl\")\n",
    "result1 = g.query(\n",
    "    \"\"\"SELECT DISTINCT ?workType\n",
    "    WHERE {\n",
    "        # note incorrect IRI here; this is a to-fix for OD2\n",
    "        ?resource <http://www.rdaregistry.info/Elements/w/#P10004> ?workType .\n",
    "    }\n",
    "    \"\"\")\n",
    "for row in result1:\n",
    "    value = str(row.workType) # this works! still having trouble with rdflib.term.URIRef\n",
    "    data_workType.append({\"iri\": value})\n",
    "print(data_workType)\n",
    "    \n"
   ]
  },
  {
   "cell_type": "code",
   "execution_count": null,
   "metadata": {},
   "outputs": [],
   "source": [
    "# https://rdflib.readthedocs.io/en/stable/intro_to_sparql.html#querying-a-remote-service\n",
    "\n",
    "g = rdflib.Graph()\n",
    "for result in data_workType:\n",
    "    # print(result['iri'])\n",
    "    result2 = g.query(\n",
    "        f\"\"\"\n",
    "        PREFIX skos: <http://www.w3.org/2004/02/skos/core#>\n",
    "        SELECT ?prefLabel\n",
    "        WHERE {{\n",
    "            SERVICE <https://vocab.getty.edu/sparql> {{\n",
    "            <{result['iri']}> skos:prefLabel ?prefLabel .\n",
    "            FILTER (lang(?prefLabel) = 'en')\n",
    "            }}\n",
    "        }}\"\"\")\n",
    "    # counter = 0 \n",
    "    for row in result2:\n",
    "        # counter += 1 check that I'm only going to get one en prefLabel\n",
    "        # print(f\"{result['iri']} - {counter} : {row.prefLabel}\")\n",
    "        result.update({'label': str(row.prefLabel)}) # rdflib.term.Literal\n",
    "print(data_workType)\n",
    "    "
   ]
  },
  {
   "cell_type": "code",
   "execution_count": null,
   "metadata": {},
   "outputs": [],
   "source": [
    "import json\n",
    "with open(\"building-or-query.json\", 'w+') as jfile:\n",
    "    json.dump(data_workType, jfile)\n",
    "\n"
   ]
  }
 ],
 "metadata": {
  "kernelspec": {
   "display_name": "Python 3",
   "language": "python",
   "name": "python3"
  },
  "language_info": {
   "codemirror_mode": {
    "name": "ipython",
    "version": 3
   },
   "file_extension": ".py",
   "mimetype": "text/x-python",
   "name": "python",
   "nbconvert_exporter": "python",
   "pygments_lexer": "ipython3",
   "version": "3.10.12"
  }
 },
 "nbformat": 4,
 "nbformat_minor": 2
}

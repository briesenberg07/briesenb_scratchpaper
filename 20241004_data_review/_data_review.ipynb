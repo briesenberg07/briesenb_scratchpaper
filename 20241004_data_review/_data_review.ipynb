{
 "cells": [
  {
   "cell_type": "markdown",
   "metadata": {},
   "source": [
    "# data review \n",
    "***See [proposal](https://uoregon.sharepoint.com/:w:/r/sites/O365_LIB_DigitalLibraryServices/Shared%20Documents/OD2_UOregon/REF_assorted_attachments/DRAFT_202410_propose_swap_rda_elements.docx?d=w298fed7e72b14c2b9d3817d9520e44c5&csf=1&web=1&e=aL8M8e) to swap RDA Agent, Work, Expression, and Manifestation properties for RDA Unconstrained, and fix invalid RDA/RDF IRI***\n",
    "\n",
    "## notes, data of interest \n",
    "Results based on querying ten sample collections (see `rdf_dumps` below for collection URL slugs)\n",
    "- **`workType`** \n",
    "    - Lots of usage\n",
    "        - 249,324 total values\n",
    "        - 1,187 total *unique* values, see [workType.csv](https://gist.github.com/briesenberg07/06fb741a21a34e5bf8022ecfb51f2cce#file-worktype-csv)\n",
    "        - All values from two sources: Getty AAT and opaquenamespace.org workType vocab\n",
    "- **`form_of_work`** \n",
    "    - Barely any usage, only 38 total values\n",
    "    - Only 2 unique values, see [form_of_work.csv](https://gist.github.com/briesenberg07/06fb741a21a34e5bf8022ecfb51f2cce#file-form_of_work-csv)\n",
    "- The other properties I'm proposing to swap out barely had any usage in these sample collections, see:\n",
    "    - [biographical_information.csv](https://gist.github.com/briesenberg07/06fb741a21a34e5bf8022ecfb51f2cce#file-biographical_information-csv)\n",
    "        - 6 unique values\n",
    "        - free text\n",
    "    - [color_content.csv](https://gist.github.com/briesenberg07/06fb741a21a34e5bf8022ecfb51f2cce#file-color_content-csv)\n",
    "        - 1 unique value\n",
    "        - Looks like free text? Just \"color\"\n"
   ]
  },
  {
   "cell_type": "code",
   "execution_count": 20,
   "metadata": {},
   "outputs": [],
   "source": [
    "import os, rdflib"
   ]
  },
  {
   "cell_type": "code",
   "execution_count": 21,
   "metadata": {},
   "outputs": [
    {
     "name": "stdout",
     "output_type": "stream",
     "text": [
      "['fealy.ttl', 'marketing-photos.ttl', 'angelus.ttl', 'building-or.ttl', 'chinavine.ttl', 'nosatsu.ttl', 'osu-historical-images.ttl', 'lowenstam.ttl', 'uo-arch-photos.ttl', 'osu-historical-publications.ttl']\n"
     ]
    }
   ],
   "source": [
    "# email briesenb@uoregon.edu if you'd like the rdf dumps\n",
    "data_path = '../../data_scratch/od2colls/' # if running this code beware local file path to data\n",
    "rdf_dumps = os.listdir(data_path)\n",
    "print(rdf_dumps)"
   ]
  },
  {
   "cell_type": "code",
   "execution_count": 22,
   "metadata": {},
   "outputs": [],
   "source": [
    "property_iris = {\n",
    "    'biographical_information': 'http://rdaregistry.info/Elements/a/P50113',\n",
    "    'description_of_manifestation': 'http://rdaregistry.info/Elements/w/P10271',\n",
    "    'form_of_work': 'http://rdaregistry.info/Elements/w/P10004',\n",
    "    'workType': 'http://www.rdaregistry.info/Elements/w/#P10004',\n",
    "    'color_content': 'http://rdaregistry.info/Elements/e/P20224',\n",
    "    'layout': 'http://rdaregistry.info/Elements/m/P30155',\n",
    "    'mode_of_issuance': 'http://rdaregistry.info/Elements/m/P30003'\n",
    "}"
   ]
  },
  {
   "cell_type": "code",
   "execution_count": 23,
   "metadata": {},
   "outputs": [],
   "source": [
    "value_counts = {\n",
    "    'biographical_information': [],\n",
    "    'description_of_manifestation': [],\n",
    "    'form_of_work': [],\n",
    "    'workType': [],\n",
    "    'color_content': [],\n",
    "    'layout': [],\n",
    "    'mode_of_issuance': []\n",
    "}"
   ]
  },
  {
   "cell_type": "code",
   "execution_count": 24,
   "metadata": {},
   "outputs": [
    {
     "name": "stdout",
     "output_type": "stream",
     "text": [
      "biographical_information: http://rdaregistry.info/Elements/a/P50113\n",
      "description_of_manifestation: http://rdaregistry.info/Elements/w/P10271\n",
      "form_of_work: http://rdaregistry.info/Elements/w/P10004\n",
      "workType: http://www.rdaregistry.info/Elements/w/#P10004\n",
      "color_content: http://rdaregistry.info/Elements/e/P20224\n",
      "layout: http://rdaregistry.info/Elements/m/P30155\n",
      "mode_of_issuance: http://rdaregistry.info/Elements/m/P30003\n"
     ]
    }
   ],
   "source": [
    "# test\n",
    "for property in property_iris.items():\n",
    "    print(f\"{property[0]}: {property[1]}\")"
   ]
  },
  {
   "cell_type": "code",
   "execution_count": 25,
   "metadata": {},
   "outputs": [
    {
     "name": "stdout",
     "output_type": "stream",
     "text": [
      "<class 'rdflib.plugins.sparql.processor.SPARQLResult'>\n",
      "1\n",
      "15\n"
     ]
    }
   ],
   "source": [
    "# test test\n",
    "import rdflib\n",
    "g = rdflib.Graph().parse(\"../../data_scratch/od2colls/fealy.ttl\")\n",
    "q3 = \"\"\"\n",
    "            SELECT (COUNT (?value) AS ?totalValue) WHERE\n",
    "            { ?s <http://purl.org/dc/terms/title> ?value . }\n",
    "            \"\"\"\n",
    "result = g.query(q3)\n",
    "print(type(result))\n",
    "print(len(result))\n",
    "for row in result:\n",
    "    print(int(row.totalValue))"
   ]
  },
  {
   "cell_type": "code",
   "execution_count": 26,
   "metadata": {},
   "outputs": [],
   "source": [
    "# this cell took 5+ minutes to run\n",
    "with open('_report_selected_props.md', 'w+') as mdfile:\n",
    "    for collection in rdf_dumps:\n",
    "        mdfile.write(f\"# {collection.split('.')[0]}\\n\")\n",
    "        g = rdflib.Graph().parse(f\"{data_path}{collection}\")\n",
    "        for property in property_iris.items():\n",
    "            mdfile.write(f\"- {property[0]} / {property[1]}\\n\")\n",
    "            q1 = f\"\"\"\n",
    "            SELECT (COUNT (?value) as ?totalCount) WHERE\n",
    "            {{ ?s <{property[1]}> ?value .}}\n",
    "            \"\"\"\n",
    "            result = g.query(q1)\n",
    "            for row in result:\n",
    "                mdfile.write(f\"\\t- {row.totalCount} values total\\n\")\n",
    "                if int(row.totalCount) > 0:\n",
    "                    q2 = f\"\"\"\n",
    "                    SELECT (COUNT(DISTINCT ?value) AS ?totalDistinct) WHERE\n",
    "                    {{ ?s <{property[1]}> ?value . }}\n",
    "                    \"\"\"\n",
    "                    result = g.query(q2)\n",
    "                    for row in result:\n",
    "                        mdfile.write(f\"\\t- {row.totalDistinct} unique values\\n\")\n",
    "                    q3 = f\"\"\"\n",
    "                    SELECT DISTINCT ?value WHERE\n",
    "                    {{ ?s <{property[1]}> ?value . }}\n",
    "                    \"\"\"\n",
    "                    result = g.query(q3)\n",
    "                    for row in result:\n",
    "                        if row.value not in value_counts[property[0]]:\n",
    "                            value_counts[property[0]].append(row.value)\n",
    "        "
   ]
  },
  {
   "cell_type": "code",
   "execution_count": 27,
   "metadata": {},
   "outputs": [
    {
     "name": "stdout",
     "output_type": "stream",
     "text": [
      "OD2 element << biographical_information >> has << 6 >> unique values across 10 sample collections\n",
      "OD2 element << description_of_manifestation >> has << 0 >> unique values across 10 sample collections\n",
      "OD2 element << form_of_work >> has << 2 >> unique values across 10 sample collections\n",
      "OD2 element << workType >> has << 1187 >> unique values across 10 sample collections\n",
      "OD2 element << color_content >> has << 1 >> unique values across 10 sample collections\n",
      "OD2 element << layout >> has << 0 >> unique values across 10 sample collections\n",
      "OD2 element << mode_of_issuance >> has << 0 >> unique values across 10 sample collections\n"
     ]
    }
   ],
   "source": [
    "# this should've also counted total values\n",
    "for item in value_counts.items():\n",
    "    print(f\"OD2 element << {item[0]} >> has << {len(item[1])} >> unique values across {len(rdf_dumps)} sample collections\")\n",
    "    if len(item[1]) > 0:\n",
    "        with open(f\"{item[0]}.csv\", \"w+\") as csvfile:\n",
    "            csvfile.write(f\"item[0]\\n\")\n",
    "            for value in item[1]:\n",
    "                csvfile.write(f\"{value}\\n\")"
   ]
  }
 ],
 "metadata": {
  "kernelspec": {
   "display_name": "Python 3",
   "language": "python",
   "name": "python3"
  },
  "language_info": {
   "codemirror_mode": {
    "name": "ipython",
    "version": 3
   },
   "file_extension": ".py",
   "mimetype": "text/x-python",
   "name": "python",
   "nbconvert_exporter": "python",
   "pygments_lexer": "ipython3",
   "version": "3.10.12"
  }
 },
 "nbformat": 4,
 "nbformat_minor": 2
}

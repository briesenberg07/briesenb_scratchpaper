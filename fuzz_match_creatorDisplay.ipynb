{
 "cells": [
  {
   "cell_type": "markdown",
   "metadata": {},
   "source": [
    "# SPARQL results in which we don't know which label goes with which IRI + fuzzy string matching = ???\n"
   ]
  },
  {
   "cell_type": "markdown",
   "metadata": {},
   "source": [
    "## some preliminary tuple + list review\n",
    "I looked at:\n",
    "- [How do I get the last element of a list?](https://stackoverflow.com/questions/930397/how-do-i-get-the-last-element-of-a-list)\n",
    "- [Add Element to Tuple in Python](https://sparkbyexamples.com/python/add-element-to-tuple-in-python)\n",
    "- [Accessing Tuple Elements in Python](https://pieriantraining.com/accessing-tuple-elements-in-python/)"
   ]
  },
  {
   "cell_type": "code",
   "execution_count": 1,
   "metadata": {},
   "outputs": [
    {
     "name": "stdout",
     "output_type": "stream",
     "text": [
      "Clarence L. Smith (architect, 1894-1951)\n",
      "Jamieson K. Parker (architect, 1895-1939)\n"
     ]
    }
   ],
   "source": [
    "# attempt to slide a tuple as a list --\n",
    "# [start:stop:stride]\n",
    "test_tuple = (\"http://opaquenamespace.org/ns/creator/ParkerJamiesonK\", \"Clarence L. Smith (architect, 1894-1951)\", \"Jamieson K. Parker (architect, 1895-1939)\")\n",
    "for value in test_tuple[1::]:\n",
    "    print(value)\n",
    "# huzzah!! 🎉"
   ]
  },
  {
   "cell_type": "code",
   "execution_count": 2,
   "metadata": {},
   "outputs": [],
   "source": [
    "dump = input(\"enter path to RDF dump for collection\\n>>>\")\n",
    "\n",
    "import rdflib\n",
    "\n",
    "g = rdflib.Graph().parse(dump)\n",
    "result = g.query(\n",
    "    \"\"\"SELECT DISTINCT ?onsResource ?creatorDisplay\n",
    "    WHERE {\n",
    "        ?s ?p ?onsResource .\n",
    "        OPTIONAL { ?s <http://opaquenamespace.org/ns/cco_creatorDisplay> ?creatorDisplay . }\n",
    "        FILTER CONTAINS (str(?onsResource), \"http://opaquenamespace.org/ns/\")\n",
    "    }\n",
    "    \"\"\"\n",
    ")"
   ]
  },
  {
   "cell_type": "code",
   "execution_count": 3,
   "metadata": {},
   "outputs": [],
   "source": [
    "all_ons = [\n",
    "    # I need a start tuple \n",
    "    (\"throw_this_one_away\", )\n",
    "]\n",
    "for row in result:\n",
    "    if str(row.onsResource) == all_ons[-1][0]:\n",
    "        add_label_tuple = (str(row.creatorDisplay), )\n",
    "        all_ons[-1] = all_ons[-1] + add_label_tuple\n",
    "    elif str(row.creatorDisplay) == '':\n",
    "        new_iri_only_tuple = (str(row.onsResource), )\n",
    "        all_ons.append(new_iri_only_tuple)\n",
    "    else:\n",
    "        new_iri_label_tuple = (str(row.onsResource), str(row.creatorDisplay))\n",
    "        all_ons.append(new_iri_label_tuple)"
   ]
  },
  {
   "cell_type": "code",
   "execution_count": 4,
   "metadata": {},
   "outputs": [],
   "source": [
    "# for item in all_ons:\n",
    "#     print(item)"
   ]
  },
  {
   "cell_type": "markdown",
   "metadata": {},
   "source": [
    "## fuzzy string matching\n",
    "**to pick the label that goes with the IRI (if one exists)**  \n",
    "*NOTE 🚩 that this is only enabled by the fact that ONS IRI slugs are created from labels with space, punctuation, etc. stripped*  \n",
    "\n",
    "> ***From [datacamp](https://www.datacamp.com/)***  \n",
    "> https://www.datacamp.com/tutorial/fuzzy-string-python"
   ]
  }
 ],
 "metadata": {
  "kernelspec": {
   "display_name": "Python 3",
   "language": "python",
   "name": "python3"
  },
  "language_info": {
   "codemirror_mode": {
    "name": "ipython",
    "version": 3
   },
   "file_extension": ".py",
   "mimetype": "text/x-python",
   "name": "python",
   "nbconvert_exporter": "python",
   "pygments_lexer": "ipython3",
   "version": "3.10.12"
  }
 },
 "nbformat": 4,
 "nbformat_minor": 2
}

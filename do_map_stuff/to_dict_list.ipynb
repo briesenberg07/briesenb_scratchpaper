{
 "cells": [
  {
   "cell_type": "markdown",
   "metadata": {},
   "source": [
    "# MAP manipulation\n",
    "## 📚 I looked at\n",
    "- [csv — CSV File Reading and Writing](https://docs.python.org/3/library/csv.html) > [`class csv.DictReader(...)`](https://docs.python.org/3/library/csv.html#csv.DictReader)\n",
    "- And I always have to remind myself how `json.dump` works at [json — JSON encoder and decoder](https://docs.python.org/3/library/json.html)"
   ]
  },
  {
   "cell_type": "markdown",
   "metadata": {},
   "source": [
    "## CSV > JSON"
   ]
  },
  {
   "cell_type": "code",
   "execution_count": 1,
   "metadata": {},
   "outputs": [
    {
     "name": "stdout",
     "output_type": "stream",
     "text": [
      "Column\n",
      "OD2 Property ID\n",
      "OD2 Predicate Full URI\n",
      "OD2 Predicate Short Form\n",
      "OD2 RDF form\n",
      "OD1 Property ID\n",
      "OD1 Predicate Full URI\n",
      "OD1 Predicate Short Form\n",
      "Model\n",
      "Work Type Where Defined\n",
      "Obligation\n",
      "Recommendation\n",
      "Form and Facet Label\n",
      "Form Helptext\n",
      "Faceted\n",
      "Combined Facets\n",
      "Searchable\n",
      "Advanced Search\n",
      "Showpage Visible\n",
      "Form Visible\n",
      "Search Results Visible\n",
      "Ordered\n",
      "Expected Type\n",
      "Controlled Vocabulary\n",
      "Description\n",
      "Example Value\n",
      "Notes\n",
      "OAI Mapping (dc)\n",
      "OAI Mapping (qdc)\n",
      "IIIF Manifest Metadata\n",
      "MARC Mapping\n",
      "Omeka classic mapping (UO)\n",
      "Omeka S mapping (UO)\n",
      "In Form\n",
      "Column2\n"
     ]
    }
   ],
   "source": [
    "import csv\n",
    "desktop = '/mnt/c/Users/briesenb/Desktop/'\n",
    "with open(f'{desktop}OD2_MAP.csv', 'r', newline='', encoding='utf-8-sig') as csvfile:\n",
    "    reader = csv.DictReader(csvfile)\n",
    "    for column in reader.fieldnames:\n",
    "        print(column)"
   ]
  },
  {
   "cell_type": "code",
   "execution_count": 6,
   "metadata": {},
   "outputs": [],
   "source": [
    "import csv\n",
    "import json\n",
    "\n",
    "# TO DO - clean up that first header that has the byte order mark\n",
    "    # done! needed encoding='utf-8-sig' \n",
    "    # thank you https://stackoverflow.com/questions/17912307/u-ufeff-in-python-string\n",
    "# TO DO - create nested dicts from start? see do_stuff.ipynb > 'convert lists'\n",
    "\n",
    "def to_dict_list(desktopfilename):\n",
    "    filename_slug = desktopfilename.split('/')[-1]\n",
    "    filename_slug = filename_slug.split('.')[0]\n",
    "    dict_list = []\n",
    "    with open(f'{desktop}{desktopfilename}', 'r', newline='', encoding='utf-8-sig') as csvfile:\n",
    "        reader = csv.DictReader(csvfile)\n",
    "        # print(f\"reader.fieldnames is a {type(reader.fieldnames)}\\n{reader.fieldnames}\")\n",
    "        for row in reader:\n",
    "            entry = {}\n",
    "            for header in reader.fieldnames:\n",
    "                data = {header: row[header]}\n",
    "                entry.update(data)\n",
    "            dict_list.append(entry)\n",
    "    # print(map_dict_list)\n",
    "    with open(f'{filename_slug}.json', 'w') as jsonfile:\n",
    "        json.dump(dict_list, jsonfile)"
   ]
  },
  {
   "cell_type": "code",
   "execution_count": 7,
   "metadata": {},
   "outputs": [],
   "source": [
    "to_dict_list('OD2_MAP.csv')\n",
    "to_dict_list('MAP_aerial_photographs.csv')\n",
    "\n",
    "# to do - roundtrip it!\n",
    "    # may want to change filename in/filename out\n",
    "# would-be-nice-to-do - validate it!\n",
    "    # JSON schema? Pydantic??\n"
   ]
  },
  {
   "cell_type": "markdown",
   "metadata": {},
   "source": [
    "## JSON > CSV 📌"
   ]
  },
  {
   "cell_type": "code",
   "execution_count": 9,
   "metadata": {},
   "outputs": [],
   "source": [
    "# ..."
   ]
  }
 ],
 "metadata": {
  "kernelspec": {
   "display_name": "Python 3",
   "language": "python",
   "name": "python3"
  },
  "language_info": {
   "codemirror_mode": {
    "name": "ipython",
    "version": 3
   },
   "file_extension": ".py",
   "mimetype": "text/x-python",
   "name": "python",
   "nbconvert_exporter": "python",
   "pygments_lexer": "ipython3",
   "version": "3.10.12"
  }
 },
 "nbformat": 4,
 "nbformat_minor": 2
}

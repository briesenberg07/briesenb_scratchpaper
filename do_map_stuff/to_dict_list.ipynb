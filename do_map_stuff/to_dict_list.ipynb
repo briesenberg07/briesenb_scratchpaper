{
 "cells": [
  {
   "cell_type": "markdown",
   "metadata": {},
   "source": [
    "# MAP manipulation\n",
    "## 📚 I looked at\n",
    "- [csv — CSV File Reading and Writing](https://docs.python.org/3/library/csv.html) > [`class csv.DictReader(...)`](https://docs.python.org/3/library/csv.html#csv.DictReader)\n",
    "- And I always have to remind myself how `json.dump` works at [json — JSON encoder and decoder](https://docs.python.org/3/library/json.html)"
   ]
  },
  {
   "cell_type": "code",
   "execution_count": 11,
   "metadata": {},
   "outputs": [
    {
     "name": "stdout",
     "output_type": "stream",
     "text": [
      "Label\n",
      "OD2 Property ID\n",
      "OD2 Predicate Full URI\n",
      "OD2 Predicate Short Form\n",
      "OD2 RDF form\n",
      "OD1 Property ID\n",
      "OD1 Predicate Full URI\n",
      "OD1 Predicate Short Form\n",
      "Model \n",
      "Work Type Where Defined\n",
      "Obligation\n",
      "Recommendation\n",
      "Form and Facet Label\n",
      "Form Helptext\n",
      "Faceted\n",
      "Combined Facets\n",
      "Searchable\n",
      "Advanced Search\n",
      "Showpage Visible\n",
      "Form Visible\n",
      "Search Results Visible\n",
      "Ordered\n",
      "Expected Type\n",
      "Controlled Vocabulary\n",
      "Description\n",
      "Example Value\n",
      "Notes\n",
      "OAI Mapping (dc)\n",
      "OAI Mapping (qdc)\n",
      "IIIF Manifest Metadata\n",
      "MARC Mapping\n",
      "Omeka classic mapping (UO)\n",
      "Omeka S mapping (UO)\n",
      "In Form\n",
      "\n"
     ]
    }
   ],
   "source": [
    "import csv\n",
    "with open('../data_scratch/map_od2.csv', 'r', newline='') as csvfile:\n",
    "    reader = csv.DictReader(csvfile)\n",
    "    for column in reader.fieldnames:\n",
    "        print(column)"
   ]
  },
  {
   "cell_type": "code",
   "execution_count": 2,
   "metadata": {},
   "outputs": [],
   "source": [
    "import csv\n",
    "import json\n",
    "\n",
    "# TO DO - clean up that first header that has the byte order mark\n",
    "# ✅ done! thank you https://stackoverflow.com/questions/17912307/u-ufeff-in-python-string\n",
    "\n",
    "map_dict_list = []\n",
    "with open('../../data_scratch/map_od2.csv', 'r', newline='', encoding='utf-8-sig') as csvfile:\n",
    "    reader = csv.DictReader(csvfile)\n",
    "    # print(f\"reader.fieldnames is a {type(reader.fieldnames)}\\n{reader.fieldnames}\")\n",
    "    for row in reader:\n",
    "        entry = {}\n",
    "        for header in reader.fieldnames:\n",
    "            data = {header: row[header]}\n",
    "            entry.update(data)\n",
    "        map_dict_list.append(entry)\n",
    "# print(map_dict_list)\n",
    "with open('map_dict_list.json', 'w') as jsonfile:\n",
    "    json.dump(map_dict_list, jsonfile)"
   ]
  }
 ],
 "metadata": {
  "kernelspec": {
   "display_name": "Python 3",
   "language": "python",
   "name": "python3"
  },
  "language_info": {
   "codemirror_mode": {
    "name": "ipython",
    "version": 3
   },
   "file_extension": ".py",
   "mimetype": "text/x-python",
   "name": "python",
   "nbconvert_exporter": "python",
   "pygments_lexer": "ipython3",
   "version": "3.10.12"
  }
 },
 "nbformat": 4,
 "nbformat_minor": 2
}

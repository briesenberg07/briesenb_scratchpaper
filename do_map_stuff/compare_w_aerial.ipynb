{
 "cells": [
  {
   "cell_type": "markdown",
   "metadata": {},
   "source": [
    "# compare properties + associated info - create list of new and list of existing\n",
    "## 📚 looking at\n",
    "- [merge two lists, each list contains dictionaries](https://www.reddit.com/r/learnpython/comments/15mufyp/merge_two_lists_each_list_contains_dictionaries/), which includes list comprehension...\n",
    "- [What does the \"x for x in\" syntax mean? \\[duplicate\\]](https://stackoverflow.com/questions/47464211/what-does-the-x-for-x-in-syntax-mean)\n",
    "- [Question/answer with ChatGPT](https://chatgpt.com/share/68ac6147-c3f2-4a23-b55a-98cf58bc4dbf)\n",
    "- [How can I get dictionary key as variable directly in Python (not by searching from value)?](https://stackoverflow.com/questions/3545331/how-can-i-get-dictionary-key-as-variable-directly-in-python-not-by-searching-fr)\n",
    "    - See [Mapping Types - `dict`](https://docs.python.org/3/library/stdtypes.html#mapping-types-dict) > [`items()`](https://docs.python.org/3/library/stdtypes.html#dict.items)\n",
    "\n"
   ]
  },
  {
   "cell_type": "code",
   "execution_count": 3,
   "metadata": {},
   "outputs": [
    {
     "name": "stdout",
     "output_type": "stream",
     "text": [
      "62 properties in proposed aerial photos profile\n",
      "232 properties in OD2 MAP\n"
     ]
    }
   ],
   "source": [
    "import json\n",
    "# get the json\n",
    "with open('OD2_MAP.json', 'r') as jsonfile:\n",
    "    od2_data = json.load(jsonfile)\n",
    "with open('/home/brieswsl/briesenb_scratchpaper/do_map_stuff/MAP_aerial_photographs.json', 'r') as jsonfile:\n",
    "    aerial_data = json.load(jsonfile)\n",
    "# see if I got it\n",
    "print(f\"{len(aerial_data)} properties in proposed aerial photos profile\")\n",
    "print(f\"{len(od2_data)} properties in OD2 MAP\")\n"
   ]
  },
  {
   "cell_type": "markdown",
   "metadata": {},
   "source": [
    "## convert to nested dicts\n",
    "as in\n",
    "\n",
    "```\n",
    "[\n",
    "    'id1': {\n",
    "        'stuff': 123,\n",
    "        'things': 'here's the info',\n",
    "        '...': '...'\n",
    "    },\n",
    "    {\n",
    "    'id2': {\n",
    "        ...\n",
    "    }\n",
    "    }\n",
    "]\n",
    "```\n"
   ]
  },
  {
   "cell_type": "code",
   "execution_count": 4,
   "metadata": {},
   "outputs": [],
   "source": [
    "# bit of a different tack per ChatGPT answer - nest dictionaries as values for key which is `OD2 Property ID`\n",
    "# convert lists\n",
    "    # this could also be done from the start in to_dict_list.ipynb\n",
    "    # I need a rework on list comprehension, this is a bit less than good\n",
    "\n",
    "for item in od2_data:\n",
    "    nested_od2_data = { item['OD2 Property ID']: item for item in od2_data }\n",
    "# print(nested_od2_data)\n",
    "\n",
    "for item in aerial_data:\n",
    "    nested_aerial_data = { item['OD2 Property ID']: item for item in aerial_data }\n",
    "# print(nested_aerial_data)\n"
   ]
  },
  {
   "cell_type": "code",
   "execution_count": 5,
   "metadata": {},
   "outputs": [
    {
     "name": "stdout",
     "output_type": "stream",
     "text": [
      "45 OD2 MAP elements proposed for reuse\n",
      "16 new elements proposed for consideration\n",
      "0 elements need neither list!?\n"
     ]
    }
   ],
   "source": [
    "# a bit less than good, ctd.\n",
    "\n",
    "proposed_new = []\n",
    "proposed_reuse = []\n",
    "uncat = []\n",
    "\n",
    "for key, value in nested_aerial_data.items():\n",
    "    # print(key, value['Label'])\n",
    "    if key in nested_od2_data:\n",
    "        proposed_reuse.append(value)\n",
    "    elif key not in nested_od2_data:\n",
    "        proposed_new.append(value)\n",
    "    else:\n",
    "        uncat.append(value)\n",
    "\n",
    "print(f\"{len(proposed_reuse)} OD2 MAP elements proposed for reuse\")\n",
    "print(f\"{len(proposed_new)} new elements proposed for consideration\")\n",
    "print(f\"{len(uncat)} elements need neither list!?\")\n"
   ]
  },
  {
   "cell_type": "code",
   "execution_count": 6,
   "metadata": {},
   "outputs": [],
   "source": [
    "# interesting little problem I couldn't solve, see two args instead of one in func below\n",
    "# lists = ['proposed_new', 'proposed_reuse']\n",
    "# for list in lists:\n",
    "#     to_jsonfile(list)\n",
    "\n",
    "def to_jsonfile(list, filename):\n",
    "    with open(f\"{filename}.json\", 'w') as jsonfile:\n",
    "        json.dump(list, jsonfile)"
   ]
  },
  {
   "cell_type": "code",
   "execution_count": 7,
   "metadata": {},
   "outputs": [],
   "source": [
    "to_jsonfile(proposed_new, 'proposed_new')\n",
    "to_jsonfile(proposed_reuse, 'proposed_reuse')"
   ]
  },
  {
   "cell_type": "code",
   "execution_count": 8,
   "metadata": {},
   "outputs": [],
   "source": [
    "def to_txtfile(data, filename):\n",
    "    # data must be type = list\n",
    "    # note that this will use the un-nested format\n",
    "    with open(f\"{filename}.txt\", 'w') as txtfile:\n",
    "        needed_info = ['OD2 Property ID', 'OD2 Predicate Full URI', 'Controlled Vocabulary', 'Form and Facet Label', \n",
    "                       'Form Helptext', 'Description', 'Example Value', 'Notes']\n",
    "        for item in data:\n",
    "            txtfile.write(f\"\\n{item['Label']}\\n\")\n",
    "            for info in needed_info:\n",
    "                txtfile.write(f\"{info}: {item[info]}\\n\")"
   ]
  },
  {
   "cell_type": "code",
   "execution_count": 9,
   "metadata": {},
   "outputs": [],
   "source": [
    "to_txtfile(proposed_new, 'proposed_new')\n",
    "to_txtfile(proposed_reuse, 'proposed_reuse')"
   ]
  }
 ],
 "metadata": {
  "kernelspec": {
   "display_name": "Python 3",
   "language": "python",
   "name": "python3"
  },
  "language_info": {
   "codemirror_mode": {
    "name": "ipython",
    "version": 3
   },
   "file_extension": ".py",
   "mimetype": "text/x-python",
   "name": "python",
   "nbconvert_exporter": "python",
   "pygments_lexer": "ipython3",
   "version": "3.10.12"
  }
 },
 "nbformat": 4,
 "nbformat_minor": 2
}

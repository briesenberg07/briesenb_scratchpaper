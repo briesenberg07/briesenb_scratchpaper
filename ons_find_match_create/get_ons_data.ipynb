{
 "cells": [
  {
   "cell_type": "code",
   "execution_count": 1,
   "metadata": {},
   "outputs": [],
   "source": [
    "from rdflib import Graph, RDFS\n",
    "from some_ons import some_ons"
   ]
  },
  {
   "cell_type": "code",
   "execution_count": 8,
   "metadata": {},
   "outputs": [
    {
     "name": "stdout",
     "output_type": "stream",
     "text": [
      "http://opaquenamespace.org/ns/creator/AnnandJohnD.nt includes 12 triples, rdfs:label is 'Annand, John D.'\n",
      "http://opaquenamespace.org/ns/creator/DotyHaroldW.nt includes 11 triples, rdfs:label is 'Doty, Harold W.'\n",
      "http://opaquenamespace.org/ns/creator/JacobbergerFrancisB.nt includes 11 triples, rdfs:label is 'Jacobberger, Francis B.'\n",
      "http://opaquenamespace.org/ns/creator/LazarusEdgarM.nt includes 12 triples, rdfs:label is 'Lazarus, Edgar M.'\n",
      "http://opaquenamespace.org/ns/creator/WeberWarren.nt includes 11 triples, rdfs:label is 'Weber, Warren'\n",
      "http://opaquenamespace.org/ns/creator/HerzogHarryA.nt includes 12 triples, rdfs:label is 'Herzog, Harry A.'\n",
      "http://opaquenamespace.org/ns/creator/TirrellArchibaldL.nt includes 9 triples, rdfs:label is 'Tirrell, Archibald L.'\n",
      "[!] IRI http://opaquenamespace.org/ns/workType/roomsandspaces doesn't seem to exist in opaquenamespace.org\n",
      "http://opaquenamespace.org/ns/creator/HeinEldorW.nt includes 9 triples, rdfs:label is 'Hein, Eldor W.'\n",
      "http://opaquenamespace.org/ns/creator/ObergJohn.nt includes 11 triples, rdfs:label is 'Oberg, John'\n"
     ]
    }
   ],
   "source": [
    "# print(len(some_ons))\n",
    "for entry in some_ons:\n",
    "    try:\n",
    "        data = Graph().parse(f\"{entry[0]}.nt\")\n",
    "        for s, p, o in data.triples((None, RDFS.label, None)):\n",
    "            label = o\n",
    "        print(f\"{entry[0]}.nt includes {len(data)} triples, rdfs:label is '{o}'\")\n",
    "\n",
    "    except:\n",
    "        print(f\"[!] IRI {entry[0]} doesn't seem to exist in opaquenamespace.org\")\n"
   ]
  }
 ],
 "metadata": {
  "kernelspec": {
   "display_name": "Python 3",
   "language": "python",
   "name": "python3"
  },
  "language_info": {
   "codemirror_mode": {
    "name": "ipython",
    "version": 3
   },
   "file_extension": ".py",
   "mimetype": "text/x-python",
   "name": "python",
   "nbconvert_exporter": "python",
   "pygments_lexer": "ipython3",
   "version": "3.10.12"
  }
 },
 "nbformat": 4,
 "nbformat_minor": 2
}

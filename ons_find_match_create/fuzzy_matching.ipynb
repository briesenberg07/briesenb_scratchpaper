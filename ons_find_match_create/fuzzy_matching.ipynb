{
 "cells": [
  {
   "cell_type": "markdown",
   "metadata": {},
   "source": [
    "# fuzzy string matching\n",
    "## 📚 resources\n",
    "- `seatgeek` / [`thefuzz`](https://github.com/seatgeek/thefuzz) > README > [Usage](https://github.com/seatgeek/thefuzz/blob/83bea3d4a109a5d0c2e07334b504953cda4959c5/README.rst#Usage)\n",
    "## details\n",
    "- **to select, from one or more possible labels, the label that best matches the IRI slug**  \n",
    "- 🚩 *This may be possible because ONS IRI slugs are created from labels with space, punctuation, etc. stripped*\n"
   ]
  },
  {
   "cell_type": "code",
   "execution_count": 80,
   "metadata": {},
   "outputs": [],
   "source": [
    "from ons_some import ons_some\n",
    "from ons_all import ons_all\n",
    "# see below"
   ]
  },
  {
   "cell_type": "code",
   "execution_count": 81,
   "metadata": {},
   "outputs": [],
   "source": [
    "from thefuzz import fuzz, process\n",
    "from rdflib import Graph, RDFS\n",
    "import re"
   ]
  },
  {
   "cell_type": "code",
   "execution_count": 82,
   "metadata": {},
   "outputs": [],
   "source": [
    "with open(\"fuzzy_matching.md\", 'w+') as mdfile:\n",
    "    mdfile.write(\"# NOTE\\nFor matching, parenthesized text is stripped from `:creator_display` labels\\n\")\n",
    "    counter = 0 # output was too long! LIMIT\n",
    "    for entry in ons_all: # see above first cell imports\n",
    "        if counter < 100 and entry[1]: # LIMITing\n",
    "            mdfile.write(f\"# {entry[0]}\\n\")\n",
    "            iri_slug = entry[0].split('/')[-1]\n",
    "            mdfile.write(\"## Details\\n\")\n",
    "            mdfile.write(f\"- **IRI slug**: {entry[0].split('/')[-1]}\\n\")\n",
    "            try:\n",
    "                data = Graph().parse(f\"{entry[0]}.nt\")\n",
    "                for s, p, o in data.triples((None, RDFS.label, None)):\n",
    "                    label = o\n",
    "                mdfile.write(f\"- **rdfs:label**: {label}\\n\")\n",
    "            except:\n",
    "                mdfile.write(f\"- [!] Resource with IRI {entry[0]} does not seem to exist in ONS\\n\")\n",
    "            mdfile.write(f\"## Fuzzy matching results\\n\")\n",
    "            for item in entry[1::]:\n",
    "                updated = re.sub(\"[\\(].*[\\)]\", \"\", item)\n",
    "                updated = updated.strip()\n",
    "                mdfile.write(f\"### {iri_slug} <---> {updated}\\n\")\n",
    "                mdfile.write(f\"- fuzz.ratio = {fuzz.ratio(iri_slug, updated)}\\n\")\n",
    "                mdfile.write(f\"- fuzz.partial_ratio = {fuzz.partial_ratio(iri_slug, updated)}\\n\")\n",
    "                mdfile.write(f\"- fuzz.token_sort_ration = {fuzz.token_sort_ratio(iri_slug, updated)}\\n\")\n",
    "            counter += 1\n",
    "        else: # LIMITing\n",
    "            pass\n"
   ]
  }
 ],
 "metadata": {
  "kernelspec": {
   "display_name": "Python 3",
   "language": "python",
   "name": "python3"
  },
  "language_info": {
   "codemirror_mode": {
    "name": "ipython",
    "version": 3
   },
   "file_extension": ".py",
   "mimetype": "text/x-python",
   "name": "python",
   "nbconvert_exporter": "python",
   "pygments_lexer": "ipython3",
   "version": "3.10.12"
  }
 },
 "nbformat": 4,
 "nbformat_minor": 2
}

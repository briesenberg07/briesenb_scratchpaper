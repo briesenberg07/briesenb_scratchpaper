{
 "cells": [
  {
   "cell_type": "markdown",
   "metadata": {},
   "source": [
    "# fuzzy string matching\n",
    "## 📚 resources\n",
    "- `seatgeek` / [`thefuzz`](https://github.com/seatgeek/thefuzz) > README > [Usage](https://github.com/seatgeek/thefuzz/blob/83bea3d4a109a5d0c2e07334b504953cda4959c5/README.rst#Usage)\n",
    "## details\n",
    "- **to select, from one or more possible labels, the label that best matches the IRI slug**  \n",
    "- *NOTE 🚩 that this is only enabled by the fact that ONS IRI slugs are created from labels with space, punctuation, etc. stripped*  \n"
   ]
  },
  {
   "cell_type": "code",
   "execution_count": 48,
   "metadata": {},
   "outputs": [],
   "source": [
    "from some_ons import some_ons"
   ]
  },
  {
   "cell_type": "code",
   "execution_count": 49,
   "metadata": {},
   "outputs": [],
   "source": [
    "from thefuzz import fuzz, process\n",
    "from rdflib import Graph"
   ]
  },
  {
   "cell_type": "code",
   "execution_count": 50,
   "metadata": {},
   "outputs": [],
   "source": [
    "with open(\"fuzzy_matching.md\", 'w+') as mdfile:\n",
    "    for entry in tuples_list:\n",
    "        mdfile.write(f\"# {entry[0]}\\n\")\n",
    "        iri_slug = entry[0].split('/')[-1]\n",
    "        mdfile.write(f\"## Best match for iri_slug '{iri_slug}' ??\\n\")\n",
    "        for item in entry[1::]:\n",
    "            mdfile.write(f\"### {item}\\n\")\n",
    "            mdfile.write(f\"- fuzz.ratio = {fuzz.ratio(iri_slug, item)}\\n\")\n",
    "            mdfile.write(f\"- fuzz.partial_ratio = {fuzz.partial_ratio(iri_slug, item)}\\n\")\n",
    "            mdfile.write(f\"- fuzz.token_sort_ration = {fuzz.token_sort_ratio(iri_slug, item)}\\n\")\n",
    "            # to do -- remove parenthisized role information from creator display values prior to comparing\n",
    "            # to do -- add *actual* rdfs:label from ONS\n"
   ]
  }
 ],
 "metadata": {
  "kernelspec": {
   "display_name": "Python 3",
   "language": "python",
   "name": "python3"
  },
  "language_info": {
   "codemirror_mode": {
    "name": "ipython",
    "version": 3
   },
   "file_extension": ".py",
   "mimetype": "text/x-python",
   "name": "python",
   "nbconvert_exporter": "python",
   "pygments_lexer": "ipython3",
   "version": "3.10.12"
  }
 },
 "nbformat": 4,
 "nbformat_minor": 2
}

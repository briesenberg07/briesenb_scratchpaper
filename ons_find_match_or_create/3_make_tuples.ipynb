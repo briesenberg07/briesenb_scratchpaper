{
 "cells": [
  {
   "cell_type": "markdown",
   "metadata": {},
   "source": [
    "# put failed IRI data in tuples to do things with it\n",
    "***What data?***\n",
    "1. The failed IRI\n",
    "2. Where available, all \"Creator Display\" values for the same resource, which *may* describe the failed IRI (the ONS IRI that exists in metadata but not in ONS)\n"
   ]
  },
  {
   "cell_type": "code",
   "execution_count": null,
   "metadata": {},
   "outputs": [],
   "source": [
    "# step one get a query result\n",
    "\n",
    "dump = input(\"enter path to RDF dump for collection\\n>>>\")\n",
    "\n",
    "import rdflib\n",
    "\n",
    "g = rdflib.Graph().parse(dump)\n",
    "result = g.query(\n",
    "    \"\"\"SELECT DISTINCT ?onsResource ?creatorDisplay\n",
    "    WHERE {\n",
    "        ?s ?p ?onsResource .\n",
    "        OPTIONAL { ?s <http://opaquenamespace.org/ns/cco_creatorDisplay> ?creatorDisplay . }\n",
    "        FILTER CONTAINS (str(?onsResource), \"http://opaquenamespace.org/ns/\")\n",
    "    }\n",
    "    \"\"\"\n",
    ")"
   ]
  },
  {
   "cell_type": "code",
   "execution_count": null,
   "metadata": {},
   "outputs": [],
   "source": [
    "# step two iterate through the result and put data in tuples\n",
    "\n",
    "ons_all = [\n",
    "    # I need a start tuple \n",
    "    (\".\", )\n",
    "]\n",
    "for row in result:\n",
    "    if str(row.onsResource) == ons_all[-1][0]:\n",
    "        add_label_tuple = (str(row.creatorDisplay), )\n",
    "        ons_all[-1] = ons_all[-1] + add_label_tuple\n",
    "    elif str(row.creatorDisplay) == '':\n",
    "        new_iri_only_tuple = (str(row.onsResource), )\n",
    "        ons_all.append(new_iri_only_tuple)\n",
    "    else:\n",
    "        new_iri_label_tuple = (str(row.onsResource), str(row.creatorDisplay))\n",
    "        ons_all.append(new_iri_label_tuple)\n",
    "\n",
    "del ons_all[0]"
   ]
  },
  {
   "cell_type": "code",
   "execution_count": null,
   "metadata": {},
   "outputs": [],
   "source": [
    "# for item in ons_all:\n",
    "#     print(item)\n",
    "with open(\"ons_all.py\", \"w+\") as pyfile: # this seems like a bad way to do this...\n",
    "    pyfile.write(f\"ons_all = {ons_all}\")"
   ]
  },
  {
   "cell_type": "code",
   "execution_count": null,
   "metadata": {},
   "outputs": [],
   "source": [
    "from ons_all import ons_all # this will fail, filename change...\n",
    "print(type(ons_all))\n",
    "print(len(ons_all))\n",
    "# but... I guess it did what it needed to do!?"
   ]
  }
 ],
 "metadata": {
  "language_info": {
   "name": "python"
  }
 },
 "nbformat": 4,
 "nbformat_minor": 2
}

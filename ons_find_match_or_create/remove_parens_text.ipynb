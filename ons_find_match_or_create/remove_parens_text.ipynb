{
 "cells": [
  {
   "cell_type": "markdown",
   "metadata": {},
   "source": [
    "# regex to remove parenthesized text from Creator Display values\n",
    "## &#x1F4DA; resources\n",
    "- [Remove text between () and []](https://stackoverflow.com/questions/14596884/remove-text-between-and)\n",
    "- Would love to go through the [Regular Expression HOWTO](https://docs.python.org/3/howto/regex.html)..."
   ]
  },
  {
   "cell_type": "code",
   "execution_count": 1,
   "metadata": {},
   "outputs": [],
   "source": [
    "from ons_some import ons_some\n",
    "from ons_all import ons_all\n"
   ]
  },
  {
   "cell_type": "code",
   "execution_count": 3,
   "metadata": {},
   "outputs": [
    {
     "name": "stdout",
     "output_type": "stream",
     "text": [
      "Annand, Boone, and Lei (architecture firm, 1955-1960)\n",
      "Edgar Marks Lazarus (architect, 1868-1939)\n",
      "Ellis Fuller Lawrence (architect, 1879-1946)\n",
      "Harold B. Boone (architect)\n",
      "John Davis Annand, Sr. (architect, 1907-1994)\n",
      "Lawrence & Holford (architecture firm, 1913-1928)\n",
      "Wilbert P. Lei (architect, 1909-1960)\n",
      "William Christmas Knighton (architect, 1864-1938)\n",
      "William Gordon Holford (architect, 1878-1970)\n",
      "Wade Hampton Pipes (architect, 1877-1961)\n",
      "Francis B. Jacobberger (architect, 1898-1962)\n",
      "Edgar Marks Lazarus (architect, 1868-1939)\n",
      "Warren Weber (architect, 1912-1982)\n",
      "Bennes & Herzog (architecture firm, 1925-1931)\n",
      "Harry Albert Herzog (architect, 1893-1979)\n",
      "John Virginius Bennes (architect, 1867-1943)\n",
      "Archibald Lee Tirrell (builder/contractor, 1872-1952 )\n",
      "John Hunzicker (architect, 1867-1945)\n",
      "Tirrell & Hunter (builder/contractor)\n",
      "Boyajohn Arnold (builder/contractor)\n",
      "William Christmas Knighton (architect, 1864-1938)\n",
      "Bert F. Wilson\n",
      "Bureau of Reclamation\n",
      "Dwight A. Covington\n",
      "Eldor W. Hein\n",
      "Glynn R. Culter\n",
      "Gotfried J. Hofman\n",
      "Harry S. Byther\n",
      "J. Frank Soper\n",
      "James D. Brown\n",
      "James E. O'Leary\n",
      "Lewis M. Newell\n",
      "Martin C. Frincke\n",
      "Newton C. Pritchard\n",
      "Robert G. Lawton\n",
      "Roy E. Churchill, Jr.\n",
      "United States Department of the Interior\n",
      "Wilbur H. Johnson\n",
      "William Eck\n",
      "William F. Boyle, Jr.\n",
      "William S. Nitta\n",
      "John Oberg (builder/contractor, 1887-1957)\n",
      "Samuel R. Haworth (builder/contractor, 1856-1935)\n"
     ]
    }
   ],
   "source": [
    "for entry in ons_some:\n",
    "    for item in entry[1::]:\n",
    "        print(item)"
   ]
  },
  {
   "cell_type": "code",
   "execution_count": 5,
   "metadata": {},
   "outputs": [
    {
     "name": "stdout",
     "output_type": "stream",
     "text": [
      "Annand, Boone, and Lei\n",
      "Edgar Marks Lazarus\n",
      "Ellis Fuller Lawrence\n",
      "Harold B. Boone\n",
      "John Davis Annand, Sr.\n",
      "Lawrence & Holford\n",
      "Wilbert P. Lei\n",
      "William Christmas Knighton\n",
      "William Gordon Holford\n",
      "Wade Hampton Pipes\n",
      "Francis B. Jacobberger\n",
      "Edgar Marks Lazarus\n",
      "Warren Weber\n",
      "Bennes & Herzog\n",
      "Harry Albert Herzog\n",
      "John Virginius Bennes\n",
      "Archibald Lee Tirrell\n",
      "John Hunzicker\n",
      "Tirrell & Hunter\n",
      "Boyajohn Arnold\n",
      "William Christmas Knighton\n",
      "Bert F. Wilson\n",
      "Bureau of Reclamation\n",
      "Dwight A. Covington\n",
      "Eldor W. Hein\n",
      "Glynn R. Culter\n",
      "Gotfried J. Hofman\n",
      "Harry S. Byther\n",
      "J. Frank Soper\n",
      "James D. Brown\n",
      "James E. O'Leary\n",
      "Lewis M. Newell\n",
      "Martin C. Frincke\n",
      "Newton C. Pritchard\n",
      "Robert G. Lawton\n",
      "Roy E. Churchill, Jr.\n",
      "United States Department of the Interior\n",
      "Wilbur H. Johnson\n",
      "William Eck\n",
      "William F. Boyle, Jr.\n",
      "William S. Nitta\n",
      "John Oberg\n",
      "Samuel R. Haworth\n"
     ]
    }
   ],
   "source": [
    "import re\n",
    "for entry in ons_some:\n",
    "    for item in entry[1::]:\n",
    "        updated = re.sub(\"[\\(].*[\\)]\", \"\", item)\n",
    "        updated = updated.strip()\n",
    "        print(updated)\n"
   ]
  }
 ],
 "metadata": {
  "kernelspec": {
   "display_name": "Python 3",
   "language": "python",
   "name": "python3"
  },
  "language_info": {
   "codemirror_mode": {
    "name": "ipython",
    "version": 3
   },
   "file_extension": ".py",
   "mimetype": "text/x-python",
   "name": "python",
   "nbconvert_exporter": "python",
   "pygments_lexer": "ipython3",
   "version": "3.10.12"
  }
 },
 "nbformat": 4,
 "nbformat_minor": 2
}

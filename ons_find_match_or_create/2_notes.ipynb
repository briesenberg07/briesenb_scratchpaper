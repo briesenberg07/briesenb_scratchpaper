{
 "cells": [
  {
   "cell_type": "markdown",
   "metadata": {},
   "source": [
    "# ASIDE 1 - some preliminary tuple + list review\n",
    "## 📚 resources\n",
    "- [How do I get the last element of a list?](https://stackoverflow.com/questions/930397/how-do-i-get-the-last-element-of-a-list)\n",
    "- [Add Element to Tuple in Python](https://sparkbyexamples.com/python/add-element-to-tuple-in-python)\n",
    "- [Accessing Tuple Elements in Python](https://pieriantraining.com/accessing-tuple-elements-in-python/)"
   ]
  },
  {
   "cell_type": "code",
   "execution_count": null,
   "metadata": {},
   "outputs": [],
   "source": [
    "# attempt to slice a tuple as a list --\n",
    "# [start:stop:stride]\n",
    "tuple1 = (\"http://opaquenamespace.org/ns/creator/ParkerJamiesonK\", \"Clarence L. Smith (architect, 1894-1951)\", \"Jamieson K. Parker (architect, 1895-1939)\")\n",
    "print(\"tuple1\")\n",
    "for value in tuple1[1::]: # iterate with [start:stop:stride]\n",
    "    print(value)\n",
    "\n",
    "tuple2 = (\"http://example.org/iri\", \"something\", \"something else\")\n",
    "print(\"\\ntuple2\")\n",
    "print(tuple2[0]) # index, with tuple[index]"
   ]
  },
  {
   "cell_type": "markdown",
   "metadata": {},
   "source": [
    "# ASIDE 2 - quick rdflib refresh\n",
    "## 📚 resources\n",
    "- [rdflib documentation](https://rdflib.readthedocs.io/en/stable/index.html) > [Navigating Graphs](https://rdflib.readthedocs.io/en/stable/intro_to_graphs.html#navigating-graphs) > [Basic Triple Matching](https://rdflib.readthedocs.io/en/stable/intro_to_graphs.html#basic-triple-matching)\n",
    "## details\n",
    "- quick refresh on getting data from a graph using rdflib, but without wrapping a query, which seems to take a long time..."
   ]
  },
  {
   "cell_type": "code",
   "execution_count": 6,
   "metadata": {},
   "outputs": [],
   "source": [
    "from rdflib import Graph, RDFS\n",
    "from sample_tuples import sample"
   ]
  },
  {
   "cell_type": "code",
   "execution_count": null,
   "metadata": {},
   "outputs": [],
   "source": [
    "# print(len(ons_some))\n",
    "for entry in sample:\n",
    "    try:\n",
    "        data = Graph().parse(f\"{entry[0]}.nt\")\n",
    "        for s, p, o in data.triples((None, RDFS.label, None)):\n",
    "            label = o\n",
    "        print(f\"{entry[0]}.nt includes {len(data)} triples, rdfs:label is '{label}'\")\n",
    "\n",
    "    except:\n",
    "        print(f\"[!] IRI {entry[0]} doesn't seem to exist in opaquenamespace.org\")\n"
   ]
  },
  {
   "cell_type": "markdown",
   "metadata": {},
   "source": [
    "# ASIDE 3 - regex to remove parenthesized text from Creator Display values\n",
    "## &#x1F4DA; resources\n",
    "- [Remove text between () and []](https://stackoverflow.com/questions/14596884/remove-text-between-and)\n",
    "- Would love to go through the [Regular Expression HOWTO](https://docs.python.org/3/howto/regex.html)..."
   ]
  },
  {
   "cell_type": "code",
   "execution_count": 8,
   "metadata": {},
   "outputs": [],
   "source": [
    "from sample_tuples import sample\n",
    "import re\n"
   ]
  },
  {
   "cell_type": "code",
   "execution_count": null,
   "metadata": {},
   "outputs": [],
   "source": [
    "for entry in sample: \n",
    "    for item in entry[1::]:\n",
    "        print(item)"
   ]
  },
  {
   "cell_type": "code",
   "execution_count": null,
   "metadata": {},
   "outputs": [],
   "source": [
    "for entry in sample:\n",
    "    for item in entry[1::]:\n",
    "        updated = re.sub(\"[\\(].*[\\)]\", \"\", item)\n",
    "        updated = updated.strip()\n",
    "        print(updated)\n"
   ]
  }
 ],
 "metadata": {
  "kernelspec": {
   "display_name": "Python 3",
   "language": "python",
   "name": "python3"
  },
  "language_info": {
   "codemirror_mode": {
    "name": "ipython",
    "version": 3
   },
   "file_extension": ".py",
   "mimetype": "text/x-python",
   "name": "python",
   "nbconvert_exporter": "python",
   "pygments_lexer": "ipython3",
   "version": "3.10.12"
  }
 },
 "nbformat": 4,
 "nbformat_minor": 2
}

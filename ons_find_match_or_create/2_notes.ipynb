{
 "cells": [
  {
   "cell_type": "markdown",
   "metadata": {},
   "source": [
    "# ASIDE - some preliminary tuple + list review\n",
    "## 📚 resources\n",
    "- [How do I get the last element of a list?](https://stackoverflow.com/questions/930397/how-do-i-get-the-last-element-of-a-list)\n",
    "- [Add Element to Tuple in Python](https://sparkbyexamples.com/python/add-element-to-tuple-in-python)\n",
    "- [Accessing Tuple Elements in Python](https://pieriantraining.com/accessing-tuple-elements-in-python/)"
   ]
  },
  {
   "cell_type": "code",
   "execution_count": null,
   "metadata": {},
   "outputs": [],
   "source": [
    "# attempt to slice a tuple as a list --\n",
    "# [start:stop:stride]\n",
    "tuple1 = (\"http://opaquenamespace.org/ns/creator/ParkerJamiesonK\", \"Clarence L. Smith (architect, 1894-1951)\", \"Jamieson K. Parker (architect, 1895-1939)\")\n",
    "print(\"tuple1\")\n",
    "for value in tuple1[1::]: # iterate with [start:stop:stride]\n",
    "    print(value)\n",
    "\n",
    "tuple2 = (\"http://example.org/iri\", \"something\", \"something else\")\n",
    "print(\"\\ntuple2\")\n",
    "print(tuple2[0]) # index, with tuple[index]"
   ]
  },
  {
   "cell_type": "markdown",
   "metadata": {},
   "source": [
    "# ASIDE - quick rdflib refresh\n",
    "## 📚 resources\n",
    "- [rdflib documentation](https://rdflib.readthedocs.io/en/stable/index.html) > [Navigating Graphs](https://rdflib.readthedocs.io/en/stable/intro_to_graphs.html#navigating-graphs) > [Basic Triple Matching](https://rdflib.readthedocs.io/en/stable/intro_to_graphs.html#basic-triple-matching)\n",
    "## details\n",
    "- quick refresh on getting data from a graph using rdflib, but without wrapping a query, which seems to take a long time..."
   ]
  },
  {
   "cell_type": "code",
   "execution_count": 6,
   "metadata": {},
   "outputs": [],
   "source": [
    "from rdflib import Graph, RDFS\n",
    "from sample_tuples import sample"
   ]
  },
  {
   "cell_type": "code",
   "execution_count": null,
   "metadata": {},
   "outputs": [],
   "source": [
    "# print(len(ons_some))\n",
    "for entry in sample:\n",
    "    try:\n",
    "        data = Graph().parse(f\"{entry[0]}.nt\")\n",
    "        for s, p, o in data.triples((None, RDFS.label, None)):\n",
    "            label = o\n",
    "        print(f\"{entry[0]}.nt includes {len(data)} triples, rdfs:label is '{label}'\")\n",
    "\n",
    "    except:\n",
    "        print(f\"[!] IRI {entry[0]} doesn't seem to exist in opaquenamespace.org\")\n"
   ]
  },
  {
   "cell_type": "markdown",
   "metadata": {},
   "source": [
    "# ASIDE - regex to remove parenthesized text from Creator Display values\n",
    "## &#x1F4DA; resources\n",
    "- [Remove text between () and []](https://stackoverflow.com/questions/14596884/remove-text-between-and)\n",
    "- Would love to go through the [Regular Expression HOWTO](https://docs.python.org/3/howto/regex.html)..."
   ]
  },
  {
   "cell_type": "code",
   "execution_count": 8,
   "metadata": {},
   "outputs": [],
   "source": [
    "from sample_tuples import sample\n",
    "import re\n"
   ]
  },
  {
   "cell_type": "code",
   "execution_count": null,
   "metadata": {},
   "outputs": [],
   "source": [
    "for entry in sample: \n",
    "    for item in entry[1::]:\n",
    "        print(item)"
   ]
  },
  {
   "cell_type": "code",
   "execution_count": null,
   "metadata": {},
   "outputs": [],
   "source": [
    "for entry in sample:\n",
    "    for item in entry[1::]:\n",
    "        updated = re.sub(\"[\\(].*[\\)]\", \"\", item)\n",
    "        updated = updated.strip()\n",
    "        print(updated)\n"
   ]
  },
  {
   "cell_type": "markdown",
   "metadata": {},
   "source": [
    "# ASIDE - find IRI which is a value in a dictionary in a list of dictionaries\n",
    "\n",
    "- [Built-in Functions](https://docs.python.org/3/library/functions.html#built-in-functions) > [`any()`](https://docs.python.org/3/library/functions.html#any)"
   ]
  },
  {
   "cell_type": "code",
   "execution_count": 3,
   "metadata": {},
   "outputs": [
    {
     "name": "stdout",
     "output_type": "stream",
     "text": [
      "3\n",
      "[{'find': 'yello', 'use_instead': 'greetings'}, {'find': 'sup', 'use_instead': 'how are you?'}, {'find': 'fire', 'use_instead': 'I enjoy this'}, {'find': 'chillax', 'use_instead': 'something else'}, {'find': 'trill', 'use_instead': 'something else'}]\n",
      "5\n"
     ]
    }
   ],
   "source": [
    "test_against = [\n",
    "    { \n",
    "        'find': 'yello',\n",
    "        'use_instead': 'greetings'\n",
    "    },\n",
    "    {\n",
    "        'find': 'sup',\n",
    "        'use_instead': 'how are you?'\n",
    "    },\n",
    "    {\n",
    "        'find': 'fire',\n",
    "        'use_instead': 'I enjoy this'\n",
    "    }\n",
    "]\n",
    "print(len(test_against))\n",
    "\n",
    "test = ['sup', 'chillax', 'trill']\n",
    "\n",
    "# these don't work\n",
    "\n",
    "# for item in test:\n",
    "#     if item not in test_against:\n",
    "#         test_against.append({'find': item , 'use_instead': 'something else'})\n",
    "#     else:\n",
    "#         pass\n",
    "\n",
    "# for item in test:\n",
    "#     for entry in test_against:\n",
    "#         if item not in entry.values():\n",
    "#             test_against.append({'find': item, 'use_instead': 'something else'})\n",
    "#         else:\n",
    "#             pass\n",
    "\n",
    "for value in test:\n",
    "    if not any(d['find'] == value for d in test_against): # here's what I needed\n",
    "        test_against.append({\n",
    "            'find': value,\n",
    "            'use_instead': 'something else'\n",
    "        })\n",
    "\n",
    "print(test_against)\n",
    "print(len(test_against))\n"
   ]
  },
  {
   "cell_type": "markdown",
   "metadata": {},
   "source": [
    "\n",
    "## more on what worked\n",
    "how does the line...\n",
    "```\n",
    "...\n",
    "    if not any(d['find'] == value for d in test_against):\n",
    "        ...\n",
    "```\n",
    "...above work?\n",
    "\n",
    "- it looks like there is a list comprehension at work? \n",
    "- But there's also an equality test... \n",
    "- what is `d`??\n",
    "\n",
    "\n",
    "\n"
   ]
  }
 ],
 "metadata": {
  "kernelspec": {
   "display_name": "general-env",
   "language": "python",
   "name": "python3"
  },
  "language_info": {
   "codemirror_mode": {
    "name": "ipython",
    "version": 3
   },
   "file_extension": ".py",
   "mimetype": "text/x-python",
   "name": "python",
   "nbconvert_exporter": "python",
   "pygments_lexer": "ipython3",
   "version": "3.12.3"
  }
 },
 "nbformat": 4,
 "nbformat_minor": 2
}

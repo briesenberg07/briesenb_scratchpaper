{
 "cells": [
  {
   "cell_type": "markdown",
   "metadata": {},
   "source": [
    "# ASIDE - some preliminary tuple + list review\n",
    "## 📚 resources\n",
    "- [How do I get the last element of a list?](https://stackoverflow.com/questions/930397/how-do-i-get-the-last-element-of-a-list)\n",
    "- [Add Element to Tuple in Python](https://sparkbyexamples.com/python/add-element-to-tuple-in-python)\n",
    "- [Accessing Tuple Elements in Python](https://pieriantraining.com/accessing-tuple-elements-in-python/)"
   ]
  },
  {
   "cell_type": "code",
   "execution_count": 26,
   "metadata": {},
   "outputs": [
    {
     "name": "stdout",
     "output_type": "stream",
     "text": [
      "tuple1\n",
      "Clarence L. Smith (architect, 1894-1951)\n",
      "Jamieson K. Parker (architect, 1895-1939)\n",
      "\n",
      "tuple2\n",
      "http://example.org/iri\n"
     ]
    }
   ],
   "source": [
    "# attempt to slice a tuple as a list --\n",
    "# [start:stop:stride]\n",
    "tuple1 = (\"http://opaquenamespace.org/ns/creator/ParkerJamiesonK\", \"Clarence L. Smith (architect, 1894-1951)\", \"Jamieson K. Parker (architect, 1895-1939)\")\n",
    "print(\"tuple1\")\n",
    "for value in tuple1[1::]: # iterate with [start:stop:stride]\n",
    "    print(value)\n",
    "\n",
    "tuple2 = (\"http://example.org/iri\", \"something\", \"something else\")\n",
    "print(\"\\ntuple2\")\n",
    "print(tuple2[0]) # index, with tuple[index]"
   ]
  },
  {
   "cell_type": "markdown",
   "metadata": {},
   "source": [
    "# ASIDE - quick rdflib refresh\n",
    "## 📚 resources\n",
    "- [rdflib documentation](https://rdflib.readthedocs.io/en/stable/index.html) > [Navigating Graphs](https://rdflib.readthedocs.io/en/stable/intro_to_graphs.html#navigating-graphs) > [Basic Triple Matching](https://rdflib.readthedocs.io/en/stable/intro_to_graphs.html#basic-triple-matching)\n",
    "## details\n",
    "- quick refresh on getting data from a graph using rdflib, but without wrapping a query, which seems to take a long time..."
   ]
  },
  {
   "cell_type": "code",
   "execution_count": 27,
   "metadata": {},
   "outputs": [],
   "source": [
    "from rdflib import Graph, RDFS\n",
    "from sample_tuples import sample"
   ]
  },
  {
   "cell_type": "code",
   "execution_count": 28,
   "metadata": {},
   "outputs": [
    {
     "name": "stdout",
     "output_type": "stream",
     "text": [
      "http://opaquenamespace.org/ns/creator/AnnandJohnD.nt includes 12 triples, rdfs:label is 'Annand, John D.'\n",
      "http://opaquenamespace.org/ns/creator/DotyHaroldW.nt includes 11 triples, rdfs:label is 'Doty, Harold W.'\n",
      "http://opaquenamespace.org/ns/creator/JacobbergerFrancisB.nt includes 11 triples, rdfs:label is 'Jacobberger, Francis B.'\n",
      "http://opaquenamespace.org/ns/creator/LazarusEdgarM.nt includes 12 triples, rdfs:label is 'Lazarus, Edgar M.'\n",
      "http://opaquenamespace.org/ns/creator/WeberWarren.nt includes 11 triples, rdfs:label is 'Weber, Warren'\n",
      "http://opaquenamespace.org/ns/creator/HerzogHarryA.nt includes 12 triples, rdfs:label is 'Herzog, Harry A.'\n",
      "http://opaquenamespace.org/ns/creator/TirrellArchibaldL.nt includes 9 triples, rdfs:label is 'Tirrell, Archibald L.'\n",
      "[!] IRI http://opaquenamespace.org/ns/workType/roomsandspaces doesn't seem to exist in opaquenamespace.org\n",
      "http://opaquenamespace.org/ns/creator/HeinEldorW.nt includes 9 triples, rdfs:label is 'Hein, Eldor W.'\n",
      "http://opaquenamespace.org/ns/creator/ObergJohn.nt includes 11 triples, rdfs:label is 'Oberg, John'\n"
     ]
    }
   ],
   "source": [
    "# print(len(ons_some))\n",
    "for entry in sample:\n",
    "    try:\n",
    "        data = Graph().parse(f\"{entry[0]}.nt\")\n",
    "        for s, p, o in data.triples((None, RDFS.label, None)):\n",
    "            label = o\n",
    "        print(f\"{entry[0]}.nt includes {len(data)} triples, rdfs:label is '{label}'\")\n",
    "\n",
    "    except:\n",
    "        print(f\"[!] IRI {entry[0]} doesn't seem to exist in opaquenamespace.org\")\n"
   ]
  },
  {
   "cell_type": "markdown",
   "metadata": {},
   "source": [
    "# ASIDE - regex to remove parenthesized text from Creator Display values\n",
    "## &#x1F4DA; resources\n",
    "- [Remove text between () and []](https://stackoverflow.com/questions/14596884/remove-text-between-and)\n",
    "- Would love to go through the [Regular Expression HOWTO](https://docs.python.org/3/howto/regex.html)..."
   ]
  },
  {
   "cell_type": "code",
   "execution_count": 29,
   "metadata": {},
   "outputs": [],
   "source": [
    "from sample_tuples import sample\n",
    "import re\n"
   ]
  },
  {
   "cell_type": "code",
   "execution_count": 30,
   "metadata": {},
   "outputs": [
    {
     "name": "stdout",
     "output_type": "stream",
     "text": [
      "Annand, Boone, and Lei (architecture firm, 1955-1960)\n",
      "Edgar Marks Lazarus (architect, 1868-1939)\n",
      "Ellis Fuller Lawrence (architect, 1879-1946)\n",
      "Harold B. Boone (architect)\n",
      "John Davis Annand, Sr. (architect, 1907-1994)\n",
      "Lawrence & Holford (architecture firm, 1913-1928)\n",
      "Wilbert P. Lei (architect, 1909-1960)\n",
      "William Christmas Knighton (architect, 1864-1938)\n",
      "William Gordon Holford (architect, 1878-1970)\n",
      "Wade Hampton Pipes (architect, 1877-1961)\n",
      "Francis B. Jacobberger (architect, 1898-1962)\n",
      "Edgar Marks Lazarus (architect, 1868-1939)\n",
      "Warren Weber (architect, 1912-1982)\n",
      "Bennes & Herzog (architecture firm, 1925-1931)\n",
      "Harry Albert Herzog (architect, 1893-1979)\n",
      "John Virginius Bennes (architect, 1867-1943)\n",
      "Archibald Lee Tirrell (builder/contractor, 1872-1952 )\n",
      "John Hunzicker (architect, 1867-1945)\n",
      "Tirrell & Hunter (builder/contractor)\n",
      "Boyajohn Arnold (builder/contractor)\n",
      "William Christmas Knighton (architect, 1864-1938)\n",
      "Bert F. Wilson\n",
      "Bureau of Reclamation\n",
      "Dwight A. Covington\n",
      "Eldor W. Hein\n",
      "Glynn R. Culter\n",
      "Gotfried J. Hofman\n",
      "Harry S. Byther\n",
      "J. Frank Soper\n",
      "James D. Brown\n",
      "James E. O'Leary\n",
      "Lewis M. Newell\n",
      "Martin C. Frincke\n",
      "Newton C. Pritchard\n",
      "Robert G. Lawton\n",
      "Roy E. Churchill, Jr.\n",
      "United States Department of the Interior\n",
      "Wilbur H. Johnson\n",
      "William Eck\n",
      "William F. Boyle, Jr.\n",
      "William S. Nitta\n",
      "John Oberg (builder/contractor, 1887-1957)\n",
      "Samuel R. Haworth (builder/contractor, 1856-1935)\n"
     ]
    }
   ],
   "source": [
    "for entry in sample: \n",
    "    for item in entry[1::]:\n",
    "        print(item)"
   ]
  },
  {
   "cell_type": "code",
   "execution_count": 31,
   "metadata": {},
   "outputs": [
    {
     "name": "stdout",
     "output_type": "stream",
     "text": [
      "Annand, Boone, and Lei\n",
      "Edgar Marks Lazarus\n",
      "Ellis Fuller Lawrence\n",
      "Harold B. Boone\n",
      "John Davis Annand, Sr.\n",
      "Lawrence & Holford\n",
      "Wilbert P. Lei\n",
      "William Christmas Knighton\n",
      "William Gordon Holford\n",
      "Wade Hampton Pipes\n",
      "Francis B. Jacobberger\n",
      "Edgar Marks Lazarus\n",
      "Warren Weber\n",
      "Bennes & Herzog\n",
      "Harry Albert Herzog\n",
      "John Virginius Bennes\n",
      "Archibald Lee Tirrell\n",
      "John Hunzicker\n",
      "Tirrell & Hunter\n",
      "Boyajohn Arnold\n",
      "William Christmas Knighton\n",
      "Bert F. Wilson\n",
      "Bureau of Reclamation\n",
      "Dwight A. Covington\n",
      "Eldor W. Hein\n",
      "Glynn R. Culter\n",
      "Gotfried J. Hofman\n",
      "Harry S. Byther\n",
      "J. Frank Soper\n",
      "James D. Brown\n",
      "James E. O'Leary\n",
      "Lewis M. Newell\n",
      "Martin C. Frincke\n",
      "Newton C. Pritchard\n",
      "Robert G. Lawton\n",
      "Roy E. Churchill, Jr.\n",
      "United States Department of the Interior\n",
      "Wilbur H. Johnson\n",
      "William Eck\n",
      "William F. Boyle, Jr.\n",
      "William S. Nitta\n",
      "John Oberg\n",
      "Samuel R. Haworth\n"
     ]
    }
   ],
   "source": [
    "for entry in sample:\n",
    "    for item in entry[1::]:\n",
    "        updated = re.sub(\"[\\(].*[\\)]\", \"\", item)\n",
    "        updated = updated.strip()\n",
    "        print(updated)\n"
   ]
  },
  {
   "cell_type": "markdown",
   "metadata": {},
   "source": [
    "# ASIDE - find IRI which is a value in a dictionary in a list of dictionaries\n",
    "\n",
    "- [Built-in Functions](https://docs.python.org/3/library/functions.html#built-in-functions) > [`any()`](https://docs.python.org/3/library/functions.html#any)"
   ]
  },
  {
   "cell_type": "code",
   "execution_count": 32,
   "metadata": {},
   "outputs": [
    {
     "name": "stdout",
     "output_type": "stream",
     "text": [
      "3\n",
      "[{'find': 'yello', 'use_instead': 'greetings'}, {'find': 'sup', 'use_instead': 'how are you?'}, {'find': 'fire', 'use_instead': 'I enjoy this'}, {'find': 'chillax', 'use_instead': 'something else'}, {'find': 'trill', 'use_instead': 'something else'}]\n",
      "5\n"
     ]
    }
   ],
   "source": [
    "test_against = [\n",
    "    { \n",
    "        'find': 'yello',\n",
    "        'use_instead': 'greetings'\n",
    "    },\n",
    "    {\n",
    "        'find': 'sup',\n",
    "        'use_instead': 'how are you?'\n",
    "    },\n",
    "    {\n",
    "        'find': 'fire',\n",
    "        'use_instead': 'I enjoy this'\n",
    "    }\n",
    "]\n",
    "print(len(test_against))\n",
    "\n",
    "test = ['sup', 'chillax', 'trill']\n",
    "\n",
    "# these don't work\n",
    "\n",
    "# for item in test:\n",
    "#     if item not in test_against:\n",
    "#         test_against.append({'find': item , 'use_instead': 'something else'})\n",
    "#     else:\n",
    "#         pass\n",
    "\n",
    "# for item in test:\n",
    "#     for entry in test_against:\n",
    "#         if item not in entry.values():\n",
    "#             test_against.append({'find': item, 'use_instead': 'something else'})\n",
    "#         else:\n",
    "#             pass\n",
    "\n",
    "for value in test:\n",
    "    if not any(d['find'] == value for d in test_against): # here's what I needed\n",
    "        test_against.append({\n",
    "            'find': value,\n",
    "            'use_instead': 'something else'\n",
    "        })\n",
    "\n",
    "print(test_against)\n",
    "print(len(test_against))\n"
   ]
  },
  {
   "cell_type": "markdown",
   "metadata": {},
   "source": [
    "\n",
    "## more on what worked\n",
    "Because *it seems to work but I don't understand how*  \n",
    "\n",
    "how does the line...\n",
    "```\n",
    "...\n",
    "    if not any(d['find'] == value for d in test_against):\n",
    "        ...\n",
    "```\n",
    "...above work?\n",
    "\n",
    "- it looks like there is a list comprehension at work? \n",
    "- But there's also an equality test... \n",
    "- what is `d`??\n",
    "\n",
    "\n",
    "\n"
   ]
  },
  {
   "cell_type": "code",
   "execution_count": 8,
   "metadata": {},
   "outputs": [],
   "source": [
    "test = [\n",
    "    {\n",
    "        'food': 'sushi',\n",
    "        'rating': 10,\n",
    "        'adjective': 'delicious'\n",
    "    },\n",
    "    {\n",
    "        'food': 'pizza',\n",
    "        'rating': 8,\n",
    "        'adjective': 'lovely'\n",
    "    },\n",
    "    {\n",
    "        'food': '青汁',\n",
    "        'rating': 4,\n",
    "        'adjective': 'gross'\n",
    "    },\n",
    "    {\n",
    "        'food': 'sawdust',\n",
    "        'rating': 1,\n",
    "        'adjective': 'gross'\n",
    "    }\n",
    "]"
   ]
  },
  {
   "cell_type": "code",
   "execution_count": null,
   "metadata": {},
   "outputs": [
    {
     "name": "stdout",
     "output_type": "stream",
     "text": [
      "food 'sushi' has match in dicts in test: \n",
      "{'food': 'sushi', 'rating': 10, 'adjective': 'delicious'}\n",
      "food 'hamburger has no match in dicts in `test`\n",
      "\n",
      "\n",
      "adjective 'gross' has match in dicts in `test`\n",
      "{'food': 'sushi', 'rating': 10, 'adjective': 'delicious'}\n",
      "adjective 'gnarly has no match in dicts in `test`\n"
     ]
    }
   ],
   "source": [
    "foods = ['sushi', 'hamburger']\n",
    "for value in foods:\n",
    "    if any(item['food'] == value for item in test):\n",
    "        print(f\"food '{value}' has match in dicts in test: \")\n",
    "        print(test['food' == value]) # this seems to work here, but not below, so it must not *really* work\n",
    "    else:\n",
    "        print(f\"food '{value} has no match in dicts in `test`\")\n",
    "\n",
    "print(\"\\n\")\n",
    "\n",
    "adjectives  = [ 'gross', 'gnarly' ]\n",
    "for value in adjectives:\n",
    "    if any(item['adjective'] == value for item in test):\n",
    "        print(f\"adjective '{value}' has match in dicts in `test`\")\n",
    "        print(test['adjective' == value]) # this doesn't work, so I any() must not be doing what I think?\n",
    "    else:\n",
    "        print(f\"adjective '{value} has no match in dicts in `test`\")\n"
   ]
  },
  {
   "cell_type": "markdown",
   "metadata": {},
   "source": [
    "Some StackOverflow stuff:\n",
    "\n",
    "- [Creating a list of dictionaries in python](https://stackoverflow.com/questions/35883459/creating-a-list-of-dictionaries-in-python)\n",
    "    - this is just for *creating* a list of dicts\n",
    "- [How to access the values in a list of dictionaries?](https://stackoverflow.com/questions/17117912/how-to-access-the-values-in-a-list-of-dictionaries)\n",
    "    - RECOMMENDED: The Python Tutorial > 4. [More Flow Control Tools](https://docs.python.org/3/tutorial/controlflow.html#more-control-flow-tools)\n",
    "    - Doesn't seems to address exactly what I want to do...\n",
    "- [How to index a list of dictionaries in python?](https://stackoverflow.com/questions/70520816/how-to-index-a-list-of-dictionaries-in-python)\n",
    "    - Everything here uses a positional index...\n"
   ]
  }
 ],
 "metadata": {
  "kernelspec": {
   "display_name": "Python 3",
   "language": "python",
   "name": "python3"
  },
  "language_info": {
   "codemirror_mode": {
    "name": "ipython",
    "version": 3
   },
   "file_extension": ".py",
   "mimetype": "text/x-python",
   "name": "python",
   "nbconvert_exporter": "python",
   "pygments_lexer": "ipython3",
   "version": "3.10.12"
  }
 },
 "nbformat": 4,
 "nbformat_minor": 2
}
